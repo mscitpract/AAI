{
  "nbformat": 4,
  "nbformat_minor": 0,
  "metadata": {
    "colab": {
      "provenance": [],
      "authorship_tag": "ABX9TyOcpMfqEbe327Kc47ErgPvx",
      "include_colab_link": true
    },
    "kernelspec": {
      "name": "python3",
      "display_name": "Python 3"
    },
    "language_info": {
      "name": "python"
    }
  },
  "cells": [
    {
      "cell_type": "markdown",
      "metadata": {
        "id": "view-in-github",
        "colab_type": "text"
      },
      "source": [
        "<a href=\"https://colab.research.google.com/github/mscitpract/AAI/blob/main/Implement_Conditional_Probability_And_Joint_Probability_using_Python.ipynb\" target=\"_parent\"><img src=\"https://colab.research.google.com/assets/colab-badge.svg\" alt=\"Open In Colab\"/></a>"
      ]
    },
    {
      "cell_type": "code",
      "execution_count": 1,
      "metadata": {
        "colab": {
          "base_uri": "https://localhost:8080/"
        },
        "id": "Nme4-r2FhKwf",
        "outputId": "f66446c6-3f3c-450d-bec6-fbc02934d8f8"
      },
      "outputs": [
        {
          "output_type": "stream",
          "name": "stdout",
          "text": [
            "Heyy Yash\n",
            "The Probability that applicant passes both is 0.09\n",
            "Probablity that he/she passes only coding is 0.43\n",
            "Conditional probablity is 0.209\n"
          ]
        }
      ],
      "source": [
        "def conditional():\n",
        "    pass_stats = 0.15\n",
        "    pass_codingWStats = 0.60\n",
        "    pass_codingWOStats = 0.40\n",
        "    prob_both = pass_stats * pass_codingWStats\n",
        "    print(\"The Probability that applicant passes both is\", round(prob_both,3))\n",
        "    prob_coding = (prob_both) + ((1-pass_stats)*pass_codingWOStats)\n",
        "    print(\"Probablity that he/she passes only coding is\", round(prob_coding,3))\n",
        "    stats_given_coding = prob_both/prob_coding\n",
        "    print(\"Conditional probablity is\", round(stats_given_coding, 3))\n",
        "\n",
        "print(\"Heyy Yash\")\n",
        "conditional()"
      ]
    }
  ]
}